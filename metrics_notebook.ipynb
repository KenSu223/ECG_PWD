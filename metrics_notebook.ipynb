{
 "cells": [
  {
   "cell_type": "code",
   "execution_count": 1,
   "id": "c5ddd983",
   "metadata": {},
   "outputs": [
    {
     "ename": "ModuleNotFoundError",
     "evalue": "No module named 'layers'",
     "output_type": "error",
     "traceback": [
      "\u001b[0;31m---------------------------------------------------------------------------\u001b[0m",
      "\u001b[0;31mModuleNotFoundError\u001b[0m                       Traceback (most recent call last)",
      "Cell \u001b[0;32mIn[1], line 1\u001b[0m\n\u001b[0;32m----> 1\u001b[0m \u001b[38;5;28;01mimport\u001b[39;00m \u001b[38;5;21;01mlayers\u001b[39;00m\n\u001b[1;32m      2\u001b[0m \u001b[38;5;28;01mimport\u001b[39;00m \u001b[38;5;21;01mmodules\u001b[39;00m\n\u001b[1;32m      3\u001b[0m \u001b[38;5;28;01mimport\u001b[39;00m \u001b[38;5;21;01mtensorflow\u001b[39;00m \u001b[38;5;28;01mas\u001b[39;00m \u001b[38;5;21;01mtf\u001b[39;00m\n",
      "\u001b[0;31mModuleNotFoundError\u001b[0m: No module named 'layers'"
     ]
    }
   ],
   "source": [
    "import layers\n",
    "import modules\n",
    "import tensorflow as tf\n",
    "import keras\n",
    "import numpy as np\n",
    "import matplotlib.pyplot as plt\n",
    "import scipy.io as sio\n",
    "from scipy.signal import resample_poly\n",
    "from pathlib import Path\n",
    "from sklearn.model_selection import train_test_split\n",
    "import os\n",
    "\n",
    "from AF_metrics_utils import *"
   ]
  },
  {
   "cell_type": "code",
   "execution_count": null,
   "id": "2870621f",
   "metadata": {},
   "outputs": [],
   "source": [
    "FS_ECG_ORIG = 2048        # Hz\n",
    "FS_TARGET   = 284         # Hz\n",
    "WIN_SEC     = 3.75        # window length (s)\n",
    "STEP_SEC    = 1.875       # 50 % overlap\n",
    "\n",
    "UP, DOWN = FS_TARGET, FS_ECG_ORIG          # 71 / 512 after gcd\n",
    "\n",
    "def load_record(rec_idx: int, env_dir, ecg_dir):\n",
    "    \"\"\"Load one record and return 284 Hz ECG + envelope arrays.\"\"\"\n",
    "    env  = sio.loadmat(env_dir / f\"{rec_idx}_envelope.mat\")[\"x_up\"].squeeze()\n",
    "    ecg  = sio.loadmat(ecg_dir / f\"results01_{rec_idx}.mat\")[\"fref1\"].flatten()\n",
    "    ecg284 = resample_poly(ecg, UP, DOWN).astype(np.float32)\n",
    "    env    = env.astype(np.float32)\n",
    "    # Trim for minor difference\n",
    "    L = min(len(ecg284), len(env))\n",
    "    return ecg284[:L], env[:L]"
   ]
  },
  {
   "cell_type": "code",
   "execution_count": 22,
   "id": "1d61d116",
   "metadata": {},
   "outputs": [
    {
     "name": "stdout",
     "output_type": "stream",
     "text": [
      "Final shapes: (885, 1065, 1) (885, 1065)\n"
     ]
    }
   ],
   "source": [
    "WIN = int(WIN_SEC  * FS_TARGET)      # 3.75 s × 284 Hz = 1065\n",
    "STEP = int(STEP_SEC * FS_TARGET)     # 50 % overlap\n",
    "\n",
    "X, Y = [], []\n",
    "for rec in range(1, 61):                \n",
    "    ecg284, env = load_record(rec,\n",
    "                              Path(\"/home/tsu25/envelops\"),\n",
    "                              Path(\"/labs/katebilab/NinFEA_Data/Processed_Data\"))\n",
    "    for s in range(0, len(env) - WIN, STEP):\n",
    "        ecg_win = ecg284[s:s+WIN]\n",
    "        env_win = env[s:s+WIN]\n",
    "\n",
    "        # per-window normalisation\n",
    "        ecg_win = (ecg_win - ecg_win.mean()) / (ecg_win.std() + 1e-6)\n",
    "        env_min, env_ptp = env_win.min(), env_win.ptp()\n",
    "        env_win = 2*(env_win - env_min)/(env_ptp + 1e-6) - 1  # [-1, 1]\n",
    "\n",
    "        X.append(ecg_win[:, None])    # add channel dim\n",
    "        Y.append(env_win)             # (WIN,)  or  env_win[:, None]\n",
    "\n",
    "X = np.asarray(X, dtype=np.float32)\n",
    "Y = np.asarray(Y, dtype=np.float32)\n",
    "print(\"Final shapes:\", X.shape, Y.shape)   # (total_windows, 1065, 1) …"
   ]
  }
 ],
 "metadata": {
  "kernelspec": {
   "display_name": "fetal_maternal",
   "language": "python",
   "name": "python3"
  },
  "language_info": {
   "codemirror_mode": {
    "name": "ipython",
    "version": 3
   },
   "file_extension": ".py",
   "mimetype": "text/x-python",
   "name": "python",
   "nbconvert_exporter": "python",
   "pygments_lexer": "ipython3",
   "version": "3.12.2"
  }
 },
 "nbformat": 4,
 "nbformat_minor": 5
}
